{
  "cells": [
    {
      "cell_type": "markdown",
      "metadata": {
        "id": "view-in-github",
        "colab_type": "text"
      },
      "source": [
        "<a href=\"https://colab.research.google.com/github/K4cp3rski/ML_FUW/blob/master/Cybi%C5%84ski_Praca_domowa_3.ipynb\" target=\"_parent\"><img src=\"https://colab.research.google.com/assets/colab-badge.svg\" alt=\"Open In Colab\"/></a>"
      ]
    },
    {
      "cell_type": "markdown",
      "metadata": {
        "id": "3oQCP6SxCgVr"
      },
      "source": [
        "# Rozpoznawanie obrazu na potrzeby eksperymentu naukowego"
      ]
    },
    {
      "cell_type": "markdown",
      "metadata": {
        "id": "_eXe3NynCgWL"
      },
      "source": [
        "Pi of the Sky (https://www.pi.fuw.edu.pl/jest) jest eksperymentem astrofizycznym, którego głównym celem jest poszukiwanie rozbłysków gamma (GRB) (https://pl.wikipedia.org/wiki/Rozbłysk_gamma). W tym celu zautomatyzowane teleskopy w Chile i Hiszpanii fotografują niebo w poszukiwaniu interesujących zdarzeń. Klasyczne algorytmy wykrywania rozbłysków gamma działają w następujący sposób: wybrany obszar nieba jest stale fotografowany w pewnych odstępach czasu, jeżeli skanowany obszar zmieni się w jakiś sposób, może to oznaczać, iż pojawiło się nowe źródło promieniowania, dlatego kilka(naście) klatek (zdjęć) przed i po wystąpieniu zjawiska jest zachowywanych do późniejszej analizy. Naukowcy analizują sekwencję zdjęć aby stwierdzić, czy faktycznie zaobserwowano rozbłysk gamma. Niestety, wiele spośród zebranych danych to fałszywe alarmy, wywołane np. przez chmury poruszające się na niebie. Celem niniejszego ćwiczenia jest stworzenie algorytmu uczenia maszynowego opartego o konwolucyjne sieci neuronowe, który mógłby usprawnić analizę poprzez odsiewanie niepoprawnych danych, oszczędzając pracy naukowcom.\n",
        "\n",
        "W zadaniu chcemy stworzyć tzw. \"proof of concept\", czyli rozwiązanie dalekie od ostatecznego, ale pokazujące, że problem może potencjalnie zostać rozwiązany z użyciem zaproponowanej metody. Ograniczymy się do analizy pojedynczych obrazów a nie całych sekwencji. Chcemy dokonać klasyfikacji obrazów należących do trzech klas:\n",
        "\n",
        "0) zdjęcia potencjalnie zawierające rozbłyski gamma \n",
        "\n",
        "1) fałszywe alarmy przedstawiające niebo z chmurami\n",
        "\n",
        "2) fałszywe alarmy zawierające artefakty spowodowane wadliwą pracą aparatury badawczej (poziome/pionowe linie)"
      ]
    },
    {
      "cell_type": "markdown",
      "metadata": {
        "id": "qbk-GTQMCgWN"
      },
      "source": [
        " ## Polecenia\n"
      ]
    },
    {
      "cell_type": "markdown",
      "metadata": {
        "id": "y9tXgvpSCgWQ"
      },
      "source": [
        "#### Uwaga ogólna: Wszystkie wykresy i obrazki w notatniku mają być estetyczne, zawierać podpisy osi, tytuły, legendy itp. Wypisując jakieś wartości należy napisać również czym one są. Przed wysłaniem rozwiązania należy usunąć wszystkie niepotrzebne komentarze i komórki. Mile widziane są opisy/komentarze wyjaśniające co w danej komórce próbujecie zrobić.\n",
        "\n",
        "1. Wczytanie i wstępna obróbka danych\n",
        "     * Proszę pobrać archiwum \"data.zip\":\n",
        "     https://github.com/Rav2/uczenie-maszynowe-2021-22/raw/main/praca_domowa/data.zip\n",
        "     * Archiwum należy rozpakować. Folder \"data\" zawiera trzy podfoldery odpowiadające trzem klasom: \"0\", \"1\" oraz \"2\", które zawierają obrazki w formacie JPG. Wszystkie obrazki mają identyczne wymiary. Jeśli chcecie pracować w Google Collab, to polecam przesłać obrazki na dysk Google i podłączyć ten dysk do notebooka (instrukcja niżej).\n",
        "     * Proszę wczytać obrazki, np. korzystając z funkcji\n",
        "     tensorflow.keras.preprocessing.image.load_img (patrz przykład poniżej) i stworzyć tensor cech X i wektor etykiet y.\n",
        "     * Tensor cech powinnien mieć wymiar (3573, 100, 100, 1). 1 odpowiada pojedynczemu kanałowi (czarno-biały obraz). Jeżeli dane nie mają takiego kształtu to proszę im go nadać.\n",
        "     * Proszę sprawdzić i wyświetlić liczebność klas.\n",
        "     * Proszę sprawdzić i wyświetlić wymiary obrazka (w pikselach) i zapisać do zmiennych. Przydadzą się później.\n",
        "     * Proszę wyświetlić po jednym obrazku z każdej klasy wraz z numerem klasy.\n",
        "2. Preprocessing\n",
        "     * Proszę przeskalować wartości pikseli tak, żeby były w przedziale [0,1].\n",
        "     * Proszę podzielić dane na zbiory uczący (70%) i testowy (30%).\n",
        "     * Proszę sprawdzić, czy rozkład klas w obu zbiorach jest zbliżony. Jeżeli nie jest, to proszę dokonać podziału danych tak, żeby był.\n",
        "3. Uczenie sieci\n",
        "    * Proszę zaproponować architekturę sieci opartą o warstwy CNN. Proszę wykorzystać również pooling oraz dropout i pamiętać o spłaszczeniu na końcu. Sieć ma przyjmować obrazki w oryginalnych rozmiarach. Proszę pamiętać o właściwej funkcji aktywacji w ostatniej warstwie.\n",
        "    * Proszę wytrenować sieć wydzielając ze zbioru uczącego 15% na walidację.\n",
        "    * Proszę narysować wykresy accuracy i funkcji kosztu w funkcji numeru epoki (iteracji) uczenia, zarówno dla zbioru uczącego jak i walidacyjnego.\n",
        "4. Ewaluacja\n",
        "    * Proszę dokonać predykcji na zbiorze testowym.\n",
        "    * Proszę wypisać raport z klasyfikacji i macierz pomyłek. W przypadku otrzymania mniej niż 80% accuracy proszę porawić architekturę i parametry sieci.\n",
        "    * Proszę policzyć procent poprawnie sklasyfikowanych obrazków dla każdej z klas i przedstawić na histogramie.\n",
        "    * Proszę narysować wykres ROC i podać pole wykresu pod krzywą. \n",
        "5. Generacja pseudodanych\n",
        "  * Proszę zapoznać się z dokumentacją klasy tensorflow.keras.preprocessing.image.ImageDataGenerator oraz przykładami użycia.\n",
        "  * Proszę stworzyć obiekt typu ImageDataGenerator z parametrami pozwalającymi na generację pseudodanych poprzez użycie:\n",
        "    a) przesunięcia o nie wiecej niż 20 pikseli\n",
        "    b) odbicia względem osi OX lub OY\n",
        "    c) zoom do 10%\n",
        "  * Proszę przeznaczyć 15% zbioru treningowego na zbiór walidacyjny.\n",
        "  * Korzystając z metody \"flow\" dla obiektu typu ImageDataGenerator proszę wytrenować sieć neuronową.\n",
        "  * Proszę przeprowadzić ponowną ewaluację sieci wytrenowanej z generacją pseudodanych.\n",
        "  *Proszę porównać wyniki z wcześniejszymi i napisać kilka zdań komentarza z wyjaśnieniem obecności lub braku różnic.\n",
        "\n",
        "6. Dodatkowe (dla chętnych)\n",
        "    * Znaleźć optymalne wartości hiperparametrów sieci w sposób automatyczny, wykorzystując jedną z dostępnych bibliotek lub implementując samemu, np. z użyciem zagnieżdżonych pętli for.\n",
        "    * Dla znalezionych parametrów wykonać uczenie i ewaluację. Porównać z wcześniejszymi wynikami."
      ]
    },
    {
      "cell_type": "markdown",
      "metadata": {
        "id": "prn2DYeGHAka"
      },
      "source": [
        "#### Pobranie danych i rozpakowanie"
      ]
    },
    {
      "cell_type": "code",
      "execution_count": 2,
      "metadata": {
        "id": "Ll0tQDskHAkb",
        "colab": {
          "base_uri": "https://localhost:8080/"
        },
        "outputId": "8a69879a-4557-4ed1-b0ee-b77230569590"
      },
      "outputs": [
        {
          "output_type": "stream",
          "name": "stdout",
          "text": [
            "--2022-02-05 20:00:06--  https://github.com/Rav2/uczenie-maszynowe-2021-22/raw/main/praca_domowa/data.zip\n",
            "Resolving github.com (github.com)... 140.82.112.4\n",
            "Connecting to github.com (github.com)|140.82.112.4|:443... connected.\n",
            "HTTP request sent, awaiting response... 302 Found\n",
            "Location: https://raw.githubusercontent.com/Rav2/uczenie-maszynowe-2021-22/main/praca_domowa/data.zip [following]\n",
            "--2022-02-05 20:00:06--  https://raw.githubusercontent.com/Rav2/uczenie-maszynowe-2021-22/main/praca_domowa/data.zip\n",
            "Resolving raw.githubusercontent.com (raw.githubusercontent.com)... 185.199.108.133, 185.199.110.133, 185.199.109.133, ...\n",
            "Connecting to raw.githubusercontent.com (raw.githubusercontent.com)|185.199.108.133|:443... connected.\n",
            "HTTP request sent, awaiting response... 200 OK\n",
            "Length: 14050616 (13M) [application/zip]\n",
            "Saving to: ‘data.zip’\n",
            "\n",
            "data.zip            100%[===================>]  13.40M  --.-KB/s    in 0.1s    \n",
            "\n",
            "2022-02-05 20:00:07 (117 MB/s) - ‘data.zip’ saved [14050616/14050616]\n",
            "\n"
          ]
        }
      ],
      "source": [
        "# Odkomentuj i wykonaj, żeby pobrać dane i rozpakować\n",
        "! wget https://github.com/Rav2/uczenie-maszynowe-2021-22/raw/main/praca_domowa/data.zip\n",
        "! unzip -q data.zip"
      ]
    },
    {
      "cell_type": "markdown",
      "metadata": {
        "id": "CBCceyJ9HAkb"
      },
      "source": [
        " #### Podpięcie dysku Google do notebooka (po tym wszystkie pliki na dysku będą dostępne, trzeba zatwierdzić w wyskakujących okienkach)"
      ]
    },
    {
      "cell_type": "code",
      "execution_count": 1,
      "metadata": {
        "id": "KNaRjaP3CqBB",
        "colab": {
          "base_uri": "https://localhost:8080/"
        },
        "outputId": "17b986a6-bd8e-4dd1-8bf1-065f816c3cb5"
      },
      "outputs": [
        {
          "output_type": "stream",
          "name": "stdout",
          "text": [
            "Mounted at /content/drive\n"
          ]
        }
      ],
      "source": [
        "# Jeżeli chcesz/potrzebujesz udostępnić swój dysk Google notatnikowi z Collaba to możesz to zrobić następująco.\n",
        "# Odkomentuj i wykonaj, żeby podłączyć swój dysk Google do notatnika\n",
        "# Pliki będą dostępne pod ścieżką /content/drive/...\n",
        "\n",
        "from google.colab import drive\n",
        "drive.mount('/content/drive')"
      ]
    },
    {
      "cell_type": "markdown",
      "metadata": {
        "id": "xYYH6THsCgWh"
      },
      "source": [
        "#### przykład wczytania obrazka nr 5 z folderu 'data/1/' i konwersji do numpy array"
      ]
    },
    {
      "cell_type": "code",
      "execution_count": 13,
      "metadata": {
        "id": "n35ri67zCgWi"
      },
      "outputs": [],
      "source": [
        "import os\n",
        "import numpy as np\n",
        "from tensorflow.keras.preprocessing.image import load_img\n",
        "\n",
        "# Sprawdź jakie pliki są w folderze\n",
        "files = os.listdir('data/1/')\n",
        " \n",
        "# Ustal pełną ścieżkę do pliku nr 5\n",
        "path = os.path.join('data/1/', files[5])\n",
        " \n",
        "# Wczytaj obrazek\n",
        "img = load_img(path, color_mode='grayscale')\n",
        " \n",
        "# Przekonwertuj do tablicy w numpy\n",
        "img_arr = np.asarray(img)"
      ]
    },
    {
      "cell_type": "code",
      "source": [
        "# files"
      ],
      "metadata": {
        "id": "c10xVrrBg29Q"
      },
      "execution_count": 25,
      "outputs": []
    },
    {
      "cell_type": "markdown",
      "metadata": {
        "id": "w4vs2HlGCgWv"
      },
      "source": [
        "# Rozwiązanie"
      ]
    },
    {
      "cell_type": "markdown",
      "source": [
        "Najpierw szykujemy komórkę z techincznymi importami, bez których nie mamy podjazdu do rozwiązania zadania"
      ],
      "metadata": {
        "id": "0bpu5G7sffJ1"
      }
    },
    {
      "cell_type": "code",
      "source": [
        "import sys, os\n",
        "\n",
        "from termcolor import colored\n",
        "import numpy as np\n",
        "import pandas as pd\n",
        "import tensorflow as tf\n",
        "from matplotlib import pyplot as plt\n",
        "\n",
        "import keras\n",
        "from tensorflow.keras.preprocessing.image import load_img\n",
        "from keras.utils import np_utils\n",
        "from sklearn.metrics import classification_report, confusion_matrix, accuracy_score\n",
        "\n",
        "seed = 128\n",
        "rng = np.random.RandomState(seed)"
      ],
      "metadata": {
        "id": "mvPtPjarflzb"
      },
      "execution_count": 14,
      "outputs": []
    }
  ],
  "metadata": {
    "colab": {
      "name": "Cybiński_Praca_domowa_3.ipynb",
      "provenance": [],
      "collapsed_sections": [],
      "include_colab_link": true
    },
    "kernelspec": {
      "display_name": "Python 3",
      "language": "python",
      "name": "python3"
    },
    "language_info": {
      "codemirror_mode": {
        "name": "ipython",
        "version": 3
      },
      "file_extension": ".py",
      "mimetype": "text/x-python",
      "name": "python",
      "nbconvert_exporter": "python",
      "pygments_lexer": "ipython3",
      "version": "3.8.6"
    }
  },
  "nbformat": 4,
  "nbformat_minor": 0
}